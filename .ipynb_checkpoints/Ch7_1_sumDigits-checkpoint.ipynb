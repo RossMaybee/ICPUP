{
 "cells": [
  {
   "cell_type": "code",
   "execution_count": 1,
   "metadata": {},
   "outputs": [
    {
     "name": "stdout",
     "output_type": "stream",
     "text": [
      "The sum of the decimal digits in s is:  0\n"
     ]
    }
   ],
   "source": [
    "def sumDigits(s):\n",
    "    \"\"\"Assumes s is a string\n",
    "        Returns the sum of the decimal digits in s\n",
    "            For example, if s is 'a2b3c it returns 5'\"\"\"\n",
    "    numDict = [0, 1, 2, 3, 4, 5, 6, 7, 8, 9]\n",
    "    checkString = s[:]\n",
    "    numString = []\n",
    "    for c in checkString:\n",
    "        if c in numDict:\n",
    "            numString.append(int(c))\n",
    "            print('numString is now: ', numString)\n",
    "    sumString = 0\n",
    "    for i in numString:\n",
    "        sumString+=i\n",
    "        print('sumString is now: ', sumString)\n",
    "    return(sumString)\n",
    "\n",
    "sumDigits('ab4t56')"
   ]
  }
 ],
 "metadata": {
  "kernelspec": {
   "display_name": "Python 3",
   "language": "python",
   "name": "python3"
  },
  "language_info": {
   "codemirror_mode": {
    "name": "ipython",
    "version": 3
   },
   "file_extension": ".py",
   "mimetype": "text/x-python",
   "name": "python",
   "nbconvert_exporter": "python",
   "pygments_lexer": "ipython3",
   "version": "3.7.6"
  }
 },
 "nbformat": 4,
 "nbformat_minor": 4
}
